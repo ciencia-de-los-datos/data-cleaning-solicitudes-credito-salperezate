{
 "cells": [
  {
   "cell_type": "code",
   "execution_count": null,
   "metadata": {},
   "outputs": [],
   "source": [
    "    # clea\n",
    "    parsed_dates = []\n",
    "\n",
    "    # Loop through each date string and try to parse it using different formats\n",
    "    for date_str in df['fecha_de_beneficio']:\n",
    "        try:\n",
    "            # Try to parse the date using day-first format\n",
    "            parsed_date = parse(date_str, dayfirst=True)\n",
    "        except ValueError:\n",
    "            try:\n",
    "                # Try to parse the date using day-last format\n",
    "                parsed_date = parse(date_str, dayfirst=False)\n",
    "            except ValueError:\n",
    "                # If the date cannot be parsed, set it to NaT\n",
    "                parsed_date = pd.NaT\n",
    "        parsed_dates.append(parsed_date)\n",
    "\n",
    "    # Convert the parsed dates to a datetime series\n",
    "    parsed_dates_series = pd.Series(parsed_dates)"
   ]
  }
 ],
 "metadata": {
  "language_info": {
   "name": "python"
  },
  "orig_nbformat": 4
 },
 "nbformat": 4,
 "nbformat_minor": 2
}
